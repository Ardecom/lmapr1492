{
 "cells": [
  {
   "cell_type": "code",
   "execution_count": 82,
   "id": "typical-plenty",
   "metadata": {},
   "outputs": [],
   "source": [
    "from pymatgen.ext.matproj import MPRester\n",
    "from pymatgen import Structure\n",
    "from jupyter_jsmol import JsmolView\n",
    "from jupyter_jsmol.pymatgen import quick_view\n",
    "from ipywidgets import Layout, widgets, interact\n",
    "from IPython.display import display"
   ]
  },
  {
   "cell_type": "code",
   "execution_count": 83,
   "id": "informational-german",
   "metadata": {},
   "outputs": [],
   "source": [
    "with MPRester(\"9doXlXcpRnJooJMv0rGAfHdHSagWYk4Q\") as m:\n",
    "\n",
    "    # Structure for material id\n",
    "    Na2Se = m.get_structure_by_material_id(\"mp-1266\")"
   ]
  },
  {
   "cell_type": "code",
   "execution_count": 86,
   "id": "ecological-sigma",
   "metadata": {},
   "outputs": [
    {
     "data": {
      "application/vnd.jupyter.widget-view+json": {
       "model_id": "0aec2e6ba26f409d8bab11da0c797613",
       "version_major": 2,
       "version_minor": 0
      },
      "text/plain": [
       "JsmolView(layout=Layout(align_self='stretch', height='400px'))"
      ]
     },
     "metadata": {},
     "output_type": "display_data"
    }
   ],
   "source": [
    "view = quick_view(Na2Se)\n",
    "display(view)"
   ]
  },
  {
   "cell_type": "code",
   "execution_count": 87,
   "id": "acquired-nurse",
   "metadata": {},
   "outputs": [],
   "source": [
    "view.script('draw symop 2 {atomno=1}')"
   ]
  },
  {
   "cell_type": "code",
   "execution_count": 88,
   "id": "narrow-complaint",
   "metadata": {},
   "outputs": [],
   "source": [
    "view.script('draw symop 3 {atomno=2}')"
   ]
  },
  {
   "cell_type": "code",
   "execution_count": 89,
   "id": "excellent-drove",
   "metadata": {},
   "outputs": [],
   "source": [
    "view.script('draw symop 8 {atomno=3}')"
   ]
  }
 ],
 "metadata": {
  "kernelspec": {
   "display_name": "base",
   "language": "python",
   "name": "python3"
  },
  "language_info": {
   "codemirror_mode": {
    "name": "ipython",
    "version": 3
   },
   "file_extension": ".py",
   "mimetype": "text/x-python",
   "name": "python",
   "nbconvert_exporter": "python",
   "pygments_lexer": "ipython3",
   "version": "3.8.5"
  },
  "vscode": {
   "interpreter": {
    "hash": "e38bdacfe1d6e2b7e20a64d2eef782d7715e4314dc541be72f500d3c69b94a4f"
   }
  }
 },
 "nbformat": 4,
 "nbformat_minor": 5
}
